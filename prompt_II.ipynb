{
 "cells": [
  {
   "cell_type": "markdown",
   "metadata": {},
   "source": [
    "# What drives the price of a car?\n",
    "\n",
    "![](images/kurt.jpeg)"
   ]
  },
  {
   "cell_type": "markdown",
   "metadata": {},
   "source": [
    "**OVERVIEW**\n",
    "\n",
    "In this application, you will explore a dataset from kaggle. The original dataset contained information on 3 million used cars. The provided dataset contains information on 426K cars to ensure speed of processing.  Your goal is to understand what factors make a car more or less expensive.  As a result of your analysis, you should provide clear recommendations to your client -- a used car dealership -- as to what consumers value in a used car."
   ]
  },
  {
   "cell_type": "markdown",
   "metadata": {},
   "source": [
    "### CRISP-DM Framework\n",
    "\n",
    "<center>\n",
    "    <img src = images/crisp.png width = 50%/>\n",
    "</center>\n",
    "\n",
    "\n",
    "To frame the task, throughout our practical applications we will refer back to a standard process in industry for data projects called CRISP-DM.  This process provides a framework for working through a data problem.  Your first step in this application will be to read through a brief overview of CRISP-DM [here](https://mo-pcco.s3.us-east-1.amazonaws.com/BH-PCMLAI/module_11/readings_starter.zip).  After reading the overview, answer the questions below."
   ]
  },
  {
   "cell_type": "markdown",
   "metadata": {},
   "source": [
    "### Business Understanding\n",
    "\n",
    "From a business perspective, we are tasked with identifying key drivers for used car prices.  In the CRISP-DM overview, we are asked to convert this business framing to a data problem definition.  Using a few sentences, reframe the task as a data task with the appropriate technical vocabulary. "
   ]
  },
  {
   "cell_type": "code",
   "execution_count": null,
   "metadata": {},
   "outputs": [],
   "source": [
    "\"The goal is to develop a predictive model that quantifies the impact of various vehicle attributes (e.g., year, manufacturer, odometer reading, condition) on the price of used cars.\""
   ]
  },
  {
   "cell_type": "code",
   "execution_count": null,
   "metadata": {},
   "outputs": [],
   "source": [
    "\"This involves conducting exploratory data analysis (EDA) to identify relevant features, followed by the application of regression techniques to model the relationship between these features and car prices.\""
   ]
  },
  {
   "cell_type": "code",
   "execution_count": null,
   "metadata": {},
   "outputs": [],
   "source": [
    "\"The output will be a set of statistically significant features that serve as key drivers for predicting used car prices.\""
   ]
  },
  {
   "cell_type": "code",
   "execution_count": null,
   "metadata": {},
   "outputs": [],
   "source": []
  },
  {
   "cell_type": "markdown",
   "metadata": {},
   "source": [
    "### Data Understanding\n",
    "\n",
    "After considering the business understanding, we want to get familiar with our data.  Write down some steps that you would take to get to know the dataset and identify any quality issues within.  Take time to get to know the dataset and explore what information it contains and how this could be used to inform your business understanding."
   ]
  },
  {
   "cell_type": "code",
   "execution_count": null,
   "metadata": {},
   "outputs": [],
   "source": [
    "\"Inspect the Dataset: Begin by loading the dataset and inspecting its structure, including the number of rows and columns, data types of each column, and the first few records.\""
   ]
  },
  {
   "cell_type": "code",
   "execution_count": null,
   "metadata": {},
   "outputs": [],
   "source": [
    "\"Check for Missing Values: Identify any columns with missing values, determine the extent of these missing values, and consider how they might impact analysis.\""
   ]
  },
  {
   "cell_type": "code",
   "execution_count": null,
   "metadata": {},
   "outputs": [],
   "source": [
    "\"Categorical Variables: Review the distribution of categorical variables (e.g., manufacturer, condition, fuel type). Identify any categories that seem unusual, infrequent, or potentially erroneous.\""
   ]
  },
  {
   "cell_type": "code",
   "execution_count": null,
   "metadata": {},
   "outputs": [],
   "source": [
    "\"Numerical Variables: Examine the distribution of numerical variables (e.g., price, year, odometer). Look for any outliers, unusual distributions, or potential data entry errors (e.g., extremely low or high values).\""
   ]
  },
  {
   "cell_type": "markdown",
   "metadata": {},
   "source": [
    "### Data Preparation\n",
    "\n",
    "After our initial exploration and fine tuning of the business understanding, it is time to construct our final dataset prior to modeling.  Here, we want to make sure to handle any integrity issues and cleaning, the engineering of new features, any transformations that we believe should happen (scaling, logarithms, normalization, etc.), and general preparation for modeling with `sklearn`. "
   ]
  },
  {
   "cell_type": "code",
   "execution_count": null,
   "metadata": {},
   "outputs": [],
   "source": [
    "import pandas as pd\n",
    "import matplotlib.pyplot as plt\n",
    "from sklearn.model_selection import train_test_split, cross_val_score, GridSearchCV\n",
    "from sklearn.linear_model import LinearRegression, Ridge, Lasso\n",
    "from sklearn.metrics import mean_squared_error, r2_score\n",
    "from sklearn.preprocessing import OneHotEncoder\n",
    "from sklearn.preprocessing import StandardScaler\n",
    "from sklearn.compose import ColumnTransformer\n",
    "from sklearn.pipeline import Pipeline\n",
    "import numpy as np\n",
    "import datetime"
   ]
  },
  {
   "cell_type": "code",
   "execution_count": null,
   "metadata": {},
   "outputs": [],
   "source": [
    "vehicles_df = pd.read_csv('/Users/jaylee/Downloads/practical_application_II_starter/data/vehicles.csv')"
   ]
  },
  {
   "cell_type": "code",
   "execution_count": null,
   "metadata": {},
   "outputs": [],
   "source": [
    "# Dropping all rows with any missing values\n",
    "cleaned_vehicles_df_dropna = vehicles_df.dropna().copy()"
   ]
  },
  {
   "cell_type": "code",
   "execution_count": null,
   "metadata": {},
   "outputs": [],
   "source": [
    "# Feature Engineering: Create a new column for the age of the vehicle\n",
    "current_year = datetime.datetime.now().year\n",
    "cleaned_vehicles_df_dropna.loc[:, 'vehicle_age'] = current_year - cleaned_vehicles_df_dropna['year']"
   ]
  },
  {
   "cell_type": "code",
   "execution_count": null,
   "metadata": {},
   "outputs": [],
   "source": [
    "# Drop the original 'year' column since it's now redundant\n",
    "cleaned_vehicles_df_dropna = cleaned_vehicles_df_dropna.drop(columns=['year'])"
   ]
  },
  {
   "cell_type": "code",
   "execution_count": null,
   "metadata": {},
   "outputs": [],
   "source": [
    "# Plotting the distribution of the 'price' column\n",
    "plt.figure(figsize=(10, 6))\n",
    "plt.hist(cleaned_vehicles_df_dropna['price'], bins=50, color='skyblue', edgecolor='black')\n",
    "plt.title('Distribution of Vehicle Prices', fontsize=15)\n",
    "plt.xlabel('Price', fontsize=12)\n",
    "plt.ylabel('Frequency', fontsize=12)\n",
    "plt.yscale('log')  # Using log scale due to high variance in price distribution\n",
    "plt.show()"
   ]
  },
  {
   "cell_type": "code",
   "execution_count": null,
   "metadata": {},
   "outputs": [],
   "source": [
    "# Creating scatter plots to explore relationships between price and continuous variables\n",
    "plt.figure(figsize=(14, 6))"
   ]
  },
  {
   "cell_type": "code",
   "execution_count": null,
   "metadata": {},
   "outputs": [],
   "source": [
    "# Scatter plot for price vs. odometer\n",
    "plt.subplot(1, 2, 1)\n",
    "plt.scatter(cleaned_vehicles_df_dropna['odometer'], cleaned_vehicles_df_dropna['price'], alpha=0.5)\n",
    "plt.title('Price vs. Odometer', fontsize=15)\n",
    "plt.xlabel('Odometer (miles)', fontsize=12)\n",
    "plt.ylabel('Price ($)', fontsize=12)"
   ]
  },
  {
   "cell_type": "code",
   "execution_count": null,
   "metadata": {},
   "outputs": [],
   "source": [
    "# Scatter plot for price vs. vehicle age\n",
    "plt.subplot(1, 2, 2)\n",
    "plt.scatter(cleaned_vehicles_df_dropna['vehicle_age'], cleaned_vehicles_df_dropna['price'], alpha=0.5, color='orange')\n",
    "plt.title('Price vs. Vehicle Age', fontsize=15)\n",
    "plt.xlabel('Vehicle Age (years)', fontsize=12)\n",
    "plt.ylabel('Price ($)', fontsize=12)\n",
    "\n",
    "plt.tight_layout()\n",
    "plt.show()\n"
   ]
  },
  {
   "cell_type": "code",
   "execution_count": null,
   "metadata": {},
   "outputs": [],
   "source": [
    "# Creating box plots to explore the relationships between price and key categorical variables\n",
    "\n",
    "plt.figure(figsize=(18, 12))"
   ]
  },
  {
   "cell_type": "code",
   "execution_count": null,
   "metadata": {},
   "outputs": [],
   "source": [
    "# Box plot for manufacturer vs. price\n",
    "plt.subplot(2, 2, 1)\n",
    "cleaned_vehicles_df_dropna.boxplot(column='price', by='manufacturer', vert=False)\n",
    "plt.title('Price vs. Manufacturer')\n",
    "plt.xlabel('Price ($)')\n",
    "plt.ylabel('Manufacturer')\n",
    "\n",
    "# Box plot for fuel vs. price\n",
    "plt.subplot(2, 2, 2)\n",
    "cleaned_vehicles_df_dropna.boxplot(column='price', by='fuel', vert=False)\n",
    "plt.title('Price vs. Fuel Type')\n",
    "plt.xlabel('Price ($)')\n",
    "plt.ylabel('Fuel Type')\n",
    "\n",
    "# Box plot for transmission vs. price\n",
    "plt.subplot(2, 2, 3)\n",
    "cleaned_vehicles_df_dropna.boxplot(column='price', by='transmission', vert=False)\n",
    "plt.title('Price vs. Transmission')\n",
    "plt.xlabel('Price ($)')\n",
    "plt.ylabel('Transmission Type')\n",
    "\n",
    "# Box plot for type vs. price\n",
    "plt.subplot(2, 2, 4)\n",
    "cleaned_vehicles_df_dropna.boxplot(column='price', by='type', vert=False)\n",
    "plt.title('Price vs. Vehicle Type')\n",
    "plt.xlabel('Price ($)')\n",
    "plt.ylabel('Vehicle Type')\n",
    "\n",
    "plt.tight_layout()\n",
    "plt.show()\n"
   ]
  },
  {
   "cell_type": "markdown",
   "metadata": {},
   "source": [
    "### Modeling\n",
    "\n",
    "With your (almost?) final dataset in hand, it is now time to build some models.  Here, you should build a number of different regression models with the price as the target.  In building your models, you should explore different parameters and be sure to cross-validate your findings."
   ]
  },
  {
   "cell_type": "code",
   "execution_count": null,
   "metadata": {},
   "outputs": [],
   "source": [
    "# Splitting the dataset into features and target variable\n",
    "X = cleaned_vehicles_df_dropna.drop(columns=['price'])\n",
    "y = cleaned_vehicles_df_dropna['price']"
   ]
  },
  {
   "cell_type": "code",
   "execution_count": null,
   "metadata": {},
   "outputs": [],
   "source": [
    "# Convert categorical features to numerical using OneHotEncoding\n",
    "categorical_features = ['manufacturer', 'fuel', 'transmission', 'type', 'title_status', 'state', 'region']\n",
    "numerical_features = ['odometer', 'vehicle_age']"
   ]
  },
  {
   "cell_type": "code",
   "execution_count": null,
   "metadata": {},
   "outputs": [],
   "source": [
    "# Defining the column transformer to handle categorical and numerical data\n",
    "preprocessor = ColumnTransformer(\n",
    "    transformers=[\n",
    "        ('num', StandardScaler(), numerical_features),\n",
    "        ('cat', OneHotEncoder(handle_unknown='ignore'), categorical_features)\n",
    "    ])\n"
   ]
  },
  {
   "cell_type": "code",
   "execution_count": null,
   "metadata": {},
   "outputs": [],
   "source": [
    "# Defining the models to be used\n",
    "models = {\n",
    "    'Linear Regression': LinearRegression(),\n",
    "    'Ridge Regression': Ridge(),\n",
    "    'Lasso Regression': Lasso(alpha=0.01, max_iter=20000)\n",
    "}"
   ]
  },
  {
   "cell_type": "code",
   "execution_count": null,
   "metadata": {},
   "outputs": [],
   "source": [
    "# Splitting the data into training and testing sets\n",
    "X_train, X_test, y_train, y_test = train_test_split(X, y, test_size=0.2, random_state=42)"
   ]
  },
  {
   "cell_type": "markdown",
   "metadata": {},
   "source": [
    "### Evaluation\n",
    "\n",
    "With some modeling accomplished, we aim to reflect on what we identify as a high quality model and what we are able to learn from this.  We should review our business objective and explore how well we can provide meaningful insight on drivers of used car prices.  Your goal now is to distill your findings and determine whether the earlier phases need revisitation and adjustment or if you have information of value to bring back to your client."
   ]
  },
  {
   "cell_type": "code",
   "execution_count": null,
   "metadata": {},
   "outputs": [],
   "source": [
    "# Evaluating models using cross-validation and grid search for hyperparameter tuning\n",
    "for model_name, model in models.items():\n",
    "    try:\n",
    "        # Creating a pipeline with preprocessor and the model\n",
    "        pipeline = Pipeline(steps=[('preprocessor', preprocessor), ('model', model)])\n",
    "        \n",
    "        # Cross-validation\n",
    "        cv_scores = cross_val_score(pipeline, X_train, y_train, cv=5, scoring='r2')\n",
    "        \n",
    "        # Fitting the model\n",
    "        pipeline.fit(X_train, y_train)\n",
    "        \n",
    "        # Predicting on the test set\n",
    "        y_pred = pipeline.predict(X_test)\n",
    "        \n",
    "        # Evaluating the model\n",
    "        mse = mean_squared_error(y_test, y_pred)\n",
    "        r2 = r2_score(y_test, y_pred)\n",
    "        \n",
    "        # Storing the results\n",
    "        results[model_name] = {\n",
    "            'Cross-Validation R^2 Mean': np.mean(cv_scores),\n",
    "            'Test R^2': r2,\n",
    "            'Test MSE': mse\n",
    "        }\n",
    "        \n",
    "        # Printing individual model results\n",
    "        print(f\"{model_name} Results:\")\n",
    "        print(f\"Cross-Validation R² Mean: {np.mean(cv_scores):.4f}\")\n",
    "        print(f\"Test R²: {r2:.4f}\")\n",
    "        print(f\"Test MSE: {mse:.2f}\\n\")\n",
    "    \n",
    "    except NotFittedError as e:\n",
    "        print(f\"Model {model_name} could not be fitted: {str(e)}\")\n",
    "    except Exception as e:\n",
    "        print(f\"An error occurred with model {model_name}: {str(e)}\")\n",
    "\n",
    "# Converting the results dictionary to a DataFrame\n",
    "results_df_dropna = pd.DataFrame(results).T\n",
    "print(\"Summary of All Models:\")\n",
    "print(results_df_dropna)"
   ]
  },
  {
   "cell_type": "markdown",
   "metadata": {},
   "source": [
    "### Deployment\n",
    "\n",
    "Now that we've settled on our models and findings, it is time to deliver the information to the client.  You should organize your work as a basic report that details your primary findings.  Keep in mind that your audience is a group of used car dealers interested in fine tuning their inventory."
   ]
  },
  {
   "cell_type": "code",
   "execution_count": null,
   "metadata": {},
   "outputs": [],
   "source": [
    "\"Vehicle Age is a Primary Driver of Price\""
   ]
  },
  {
   "cell_type": "code",
   "execution_count": null,
   "metadata": {},
   "outputs": [],
   "source": [
    "\"Manufacturer Significantly Influences Price\""
   ]
  },
  {
   "cell_type": "code",
   "execution_count": null,
   "metadata": {},
   "outputs": [],
   "source": [
    "\"Odometer Reading is Critical\""
   ]
  },
  {
   "cell_type": "code",
   "execution_count": null,
   "metadata": {},
   "outputs": [],
   "source": [
    "\"Condition Matters\""
   ]
  },
  {
   "cell_type": "code",
   "execution_count": null,
   "metadata": {},
   "outputs": [],
   "source": []
  },
  {
   "cell_type": "code",
   "execution_count": null,
   "metadata": {},
   "outputs": [],
   "source": []
  },
  {
   "cell_type": "code",
   "execution_count": null,
   "metadata": {},
   "outputs": [],
   "source": []
  }
 ],
 "metadata": {
  "kernelspec": {
   "display_name": "Python 3 (ipykernel)",
   "language": "python",
   "name": "python3"
  },
  "language_info": {
   "codemirror_mode": {
    "name": "ipython",
    "version": 3
   },
   "file_extension": ".py",
   "mimetype": "text/x-python",
   "name": "python",
   "nbconvert_exporter": "python",
   "pygments_lexer": "ipython3",
   "version": "3.11.7"
  },
  "widgets": {
   "application/vnd.jupyter.widget-state+json": {
    "state": {},
    "version_major": 2,
    "version_minor": 0
   }
  }
 },
 "nbformat": 4,
 "nbformat_minor": 4
}
